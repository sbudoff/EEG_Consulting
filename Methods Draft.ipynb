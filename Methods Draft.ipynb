{
 "cells": [
  {
   "cell_type": "markdown",
   "id": "8d980920",
   "metadata": {},
   "source": [
    "This notebook contains the functions we used and brief descriptions of what they do and how we used them in our implementation."
   ]
  },
  {
   "cell_type": "code",
   "execution_count": null,
   "id": "67399d5d",
   "metadata": {},
   "outputs": [],
   "source": [
    "import mne, os\n",
    "import xml.etree.ElementTree as ET\n",
    "from matplotlib import pyplot as plt\n",
    "import pandas as pd\n",
    "import numpy as np"
   ]
  },
  {
   "cell_type": "markdown",
   "id": "91988904",
   "metadata": {},
   "source": [
    "The first set contains functions from premade python packages (os and mne). The main pages for these functions can be found here: \n",
    "https://docs.python.org/3/library/os.html\n",
    "https://mne.tools/stable/index.html"
   ]
  },
  {
   "cell_type": "markdown",
   "id": "37652695",
   "metadata": {},
   "source": [
    "The next block sets up the file path using the os package. The file path leads to an edf file, which contains the signal data we want to read in. \n",
    "Documentation: https://docs.python.org/3/library/os.path.html#module-os.path"
   ]
  },
  {
   "cell_type": "code",
   "execution_count": null,
   "id": "08f943fe",
   "metadata": {},
   "outputs": [],
   "source": [
    "data_root = os.path.join(os.getcwd(), 'Examples 2024', '00000016-APDx20974') # this is an example participant ID\n",
    "data_path = os.path.join(data_root, '00000016-APDx20974[001].edf')\n",
    "meta_path = os.path.join(data_root, '00000016-APDx20974.rml')"
   ]
  },
  {
   "cell_type": "markdown",
   "id": "e9a0a1e3",
   "metadata": {},
   "source": [
    "The next file loads the edf file of our choice (based on previous block), loads it into 'raw', and then prints information about it. We then select the channels we want to be able to plot/get information about. The channels we choose are loaded into 'selected_channels'. \n",
    "The package that lets us do this is the mne python package. The documentation can be seen here: \n",
    "https://mne.tools/stable/generated/mne.io.read_raw_edf.html\n",
    "https://mne.tools/stable/generated/mne.Info.html\n",
    "\n",
    "Sample implementation: "
   ]
  },
  {
   "cell_type": "code",
   "execution_count": null,
   "id": "b88d018c",
   "metadata": {},
   "outputs": [],
   "source": [
    "# Load an EDF file\n",
    "raw = mne.io.read_raw_edf(data_path, preload=True) # data path is the file's location\n",
    "\n",
    "# Print information about the file\n",
    "print(raw.info)\n",
    "\n",
    "# Print all channel names to review them\n",
    "print(raw.info['ch_names'])\n",
    "# the channel names tell us which signals we are looking at\n",
    "\n",
    "# Subset to only EEG Channels and print general data\n",
    "selected_channels = raw.pick(['EEG C3-A2', 'EEG C4-A1', 'EEG O1-A2', 'EEG O2-A1'])\n",
    "\n",
    "display(selected_channels)"
   ]
  },
  {
   "cell_type": "markdown",
   "id": "5ccd4ef4",
   "metadata": {},
   "source": [
    "Output: "
   ]
  },
  {
   "cell_type": "markdown",
   "id": "5e51a79f",
   "metadata": {},
   "source": [
    "The next cell contains a plot of the eeg channels. \n",
    "Documentation: https://mne.tools/dev/generated/mne.io.Raw.html#mne.io.Raw.plot (see 'plot')"
   ]
  },
  {
   "cell_type": "code",
   "execution_count": null,
   "id": "e32db15a",
   "metadata": {},
   "outputs": [],
   "source": [
    "# Visualize the EEG time series for the selected channels\n",
    "selected_channels.plot(start=0, duration=30, scalings='auto', title='Selected EEG Channels')\n",
    "plt.show()"
   ]
  },
  {
   "cell_type": "markdown",
   "id": "f7b24cac",
   "metadata": {},
   "source": [
    "Output: "
   ]
  },
  {
   "cell_type": "markdown",
   "id": "a1950762",
   "metadata": {},
   "source": [
    "The next block contains the plot of the multitaper spectral estimation method. \n",
    "More info on Multitapers can be found here: https://ieeexplore.ieee.org/document/6767046"
   ]
  },
  {
   "cell_type": "code",
   "execution_count": null,
   "id": "0fd4605e",
   "metadata": {},
   "outputs": [],
   "source": [
    "# To visualize the multitaper spectral estimation\n",
    "# Compute the Power Spectral Density (PSD) using the multitaper method\n",
    "#channel_names = ['EEG C3-A2']\n",
    "channel_names = ['EEG C3-A2']\n",
    "selected_data = raw.copy().pick_channels(channel_names)\n",
    "sfreq = selected_data.info['sfreq']\n",
    "# Extract the data from the Raw object\n",
    "data, times = selected_data[:, :]\n",
    "\n",
    "psds, freqs = mne.time_frequency.psd_array_multitaper(data, sfreq=sfreq, fmin=0.1, fmax=40, adaptive=False, normalization='length', verbose=True)\n",
    "# Plot the Power Spectral Density (PSD) for the selected EEG channels\n",
    "plt.semilogy(freqs, psds.T, label='Multitaper PSD')\n",
    "plt.xlabel('Frequency (Hz)')\n",
    "plt.ylabel('Power Spectral Density (dB)')\n",
    "plt.title('Multitaper PSD for EEG C3-A2')\n",
    "plt.xlim([0.1, 40])  # Adjust the frequency range as needed\n",
    "plt.legend()\n",
    "plt.show()"
   ]
  },
  {
   "cell_type": "markdown",
   "id": "33c06c6f",
   "metadata": {},
   "source": [
    "Output: "
   ]
  },
  {
   "cell_type": "markdown",
   "id": "ec7aa31c",
   "metadata": {},
   "source": [
    "We will also use the 'make fixed events' function from the mne package to block our data into one-hour segments. This is the new idea that Dr. Kinney wants to implement in his paper. https://mne.tools/stable/generated/mne.make_fixed_length_events.html#mne.make_fixed_length_events"
   ]
  },
  {
   "cell_type": "markdown",
   "id": "2a3def5b",
   "metadata": {},
   "source": [
    "The next section contains functions that we created ourselves. "
   ]
  },
  {
   "cell_type": "markdown",
   "id": "f18a97a5",
   "metadata": {},
   "source": [
    "This first function allows us to iterate through a dataframe and return the values in a specified column. In most cases, we use this to return a list of IDs associated with participants. "
   ]
  },
  {
   "cell_type": "code",
   "execution_count": 5,
   "id": "0c25da56",
   "metadata": {},
   "outputs": [],
   "source": [
    "def iterframe(frame, col):\n",
    "    temp = []\n",
    "    for item in frame[col]:\n",
    "        temp.append(item)\n",
    "    print(temp)\n",
    "    return temp"
   ]
  },
  {
   "cell_type": "markdown",
   "id": "84dd4205",
   "metadata": {},
   "source": [
    "Example implementation: "
   ]
  },
  {
   "cell_type": "code",
   "execution_count": 3,
   "id": "cc2432f1",
   "metadata": {},
   "outputs": [
    {
     "data": {
      "text/html": [
       "<div>\n",
       "<style scoped>\n",
       "    .dataframe tbody tr th:only-of-type {\n",
       "        vertical-align: middle;\n",
       "    }\n",
       "\n",
       "    .dataframe tbody tr th {\n",
       "        vertical-align: top;\n",
       "    }\n",
       "\n",
       "    .dataframe thead th {\n",
       "        text-align: right;\n",
       "    }\n",
       "</style>\n",
       "<table border=\"1\" class=\"dataframe\">\n",
       "  <thead>\n",
       "    <tr style=\"text-align: right;\">\n",
       "      <th></th>\n",
       "      <th>Timestamp</th>\n",
       "      <th>ID</th>\n",
       "      <th>Subject's sex at birth</th>\n",
       "    </tr>\n",
       "  </thead>\n",
       "  <tbody>\n",
       "    <tr>\n",
       "      <th>0</th>\n",
       "      <td>2024-02-24 14:17:06.549</td>\n",
       "      <td>00000016-APDx20974</td>\n",
       "      <td>M</td>\n",
       "    </tr>\n",
       "    <tr>\n",
       "      <th>1</th>\n",
       "      <td>2024-02-24 14:17:11.560</td>\n",
       "      <td>00000020-APDx20974</td>\n",
       "      <td>F</td>\n",
       "    </tr>\n",
       "    <tr>\n",
       "      <th>2</th>\n",
       "      <td>2024-02-24 14:17:15.794</td>\n",
       "      <td>00000040-APDx20067</td>\n",
       "      <td>M</td>\n",
       "    </tr>\n",
       "    <tr>\n",
       "      <th>3</th>\n",
       "      <td>2024-02-24 14:17:20.771</td>\n",
       "      <td>00000057-APDx20067</td>\n",
       "      <td>F</td>\n",
       "    </tr>\n",
       "  </tbody>\n",
       "</table>\n",
       "</div>"
      ],
      "text/plain": [
       "                Timestamp                  ID Subject's sex at birth\n",
       "0 2024-02-24 14:17:06.549  00000016-APDx20974                      M\n",
       "1 2024-02-24 14:17:11.560  00000020-APDx20974                      F\n",
       "2 2024-02-24 14:17:15.794  00000040-APDx20067                      M\n",
       "3 2024-02-24 14:17:20.771  00000057-APDx20067                      F"
      ]
     },
     "execution_count": 3,
     "metadata": {},
     "output_type": "execute_result"
    }
   ],
   "source": [
    "df"
   ]
  },
  {
   "cell_type": "code",
   "execution_count": 8,
   "id": "aa3efd1b",
   "metadata": {},
   "outputs": [
    {
     "name": "stdout",
     "output_type": "stream",
     "text": [
      "['00000016-APDx20974', '00000020-APDx20974', '00000040-APDx20067', '00000057-APDx20067']\n"
     ]
    }
   ],
   "source": [
    "IDs = iterframe(df, 'ID')"
   ]
  },
  {
   "cell_type": "markdown",
   "id": "130f4fc5",
   "metadata": {},
   "source": [
    "The next function is used to filter the dataset based on a specified value in a specified column. It returns a new dataframe that only contains rows that have the desired value. A function like this could be used to filter the dataset based on smoking/non-smoking status. "
   ]
  },
  {
   "cell_type": "code",
   "execution_count": 9,
   "id": "95a0dbd1",
   "metadata": {},
   "outputs": [],
   "source": [
    "def extract_rows(frame, col, val):\n",
    "    temp = frame[frame[col] == val]\n",
    "    return temp"
   ]
  },
  {
   "cell_type": "markdown",
   "id": "f1440e00",
   "metadata": {},
   "source": [
    "Example implementation: "
   ]
  },
  {
   "cell_type": "code",
   "execution_count": 10,
   "id": "53e563b8",
   "metadata": {},
   "outputs": [],
   "source": [
    "new_df = extract_rows(df, 'Subject\\'s sex at birth', 'M')"
   ]
  },
  {
   "cell_type": "code",
   "execution_count": 11,
   "id": "b19f28fe",
   "metadata": {},
   "outputs": [
    {
     "data": {
      "text/html": [
       "<div>\n",
       "<style scoped>\n",
       "    .dataframe tbody tr th:only-of-type {\n",
       "        vertical-align: middle;\n",
       "    }\n",
       "\n",
       "    .dataframe tbody tr th {\n",
       "        vertical-align: top;\n",
       "    }\n",
       "\n",
       "    .dataframe thead th {\n",
       "        text-align: right;\n",
       "    }\n",
       "</style>\n",
       "<table border=\"1\" class=\"dataframe\">\n",
       "  <thead>\n",
       "    <tr style=\"text-align: right;\">\n",
       "      <th></th>\n",
       "      <th>Timestamp</th>\n",
       "      <th>ID</th>\n",
       "      <th>Subject's sex at birth</th>\n",
       "    </tr>\n",
       "  </thead>\n",
       "  <tbody>\n",
       "    <tr>\n",
       "      <th>0</th>\n",
       "      <td>2024-02-24 14:17:06.549</td>\n",
       "      <td>00000016-APDx20974</td>\n",
       "      <td>M</td>\n",
       "    </tr>\n",
       "    <tr>\n",
       "      <th>2</th>\n",
       "      <td>2024-02-24 14:17:15.794</td>\n",
       "      <td>00000040-APDx20067</td>\n",
       "      <td>M</td>\n",
       "    </tr>\n",
       "  </tbody>\n",
       "</table>\n",
       "</div>"
      ],
      "text/plain": [
       "                Timestamp                  ID Subject's sex at birth\n",
       "0 2024-02-24 14:17:06.549  00000016-APDx20974                      M\n",
       "2 2024-02-24 14:17:15.794  00000040-APDx20067                      M"
      ]
     },
     "execution_count": 11,
     "metadata": {},
     "output_type": "execute_result"
    }
   ],
   "source": [
    "new_df"
   ]
  },
  {
   "cell_type": "markdown",
   "id": "94141dfa",
   "metadata": {},
   "source": [
    "We will add several new functions: \n",
    "\n",
    "The first will take the median of a subset of the data so we can plot the median power at each frequency for comparison. \n",
    "\n",
    "The second function will standardize the starting power of the functions so that each taper we plot starts at the same point, and we can look at the differences after that. \n",
    "\n",
    "The third function we need filters time based on the number of observations present in the dataset. We want to make sure that each sample has the same number of observations, or that we have the same amount of time sleeping for each person when we do comparisons. \n",
    "\n",
    "The last function we will implement blocks time into one-hour chunks. That is the new and cool addition to Dr. Kinney's paper. This function is mentioned earlier. It is the 'make fixed events' function from the mne package. "
   ]
  },
  {
   "cell_type": "markdown",
   "id": "31f672ca",
   "metadata": {},
   "source": [
    "Notes: \n",
    "\n",
    "We are missing a few functions because we had to show Dr. Kinney what we had done so far and get input based on how we were approaching the problem before we had everything we need. \n",
    "\n",
    "There is also potential that we need to implement another function that can filter out unwanted time segments in the data. Unwanted time segments could include times when the participant woke up during the night, for example. We are waiting to hear if these times have been removed from the data or not, and will proceed based on the response. "
   ]
  }
 ],
 "metadata": {
  "kernelspec": {
   "display_name": "Python 3 (ipykernel)",
   "language": "python",
   "name": "python3"
  },
  "language_info": {
   "codemirror_mode": {
    "name": "ipython",
    "version": 3
   },
   "file_extension": ".py",
   "mimetype": "text/x-python",
   "name": "python",
   "nbconvert_exporter": "python",
   "pygments_lexer": "ipython3",
   "version": "3.9.12"
  }
 },
 "nbformat": 4,
 "nbformat_minor": 5
}
